{
 "cells": [
  {
   "cell_type": "code",
   "execution_count": 1,
   "metadata": {
    "collapsed": false,
    "deletable": true,
    "editable": true
   },
   "outputs": [],
   "source": [
    "# These are all the modules we'll be using later. Make sure you can import them\n",
    "# before proceeding further.\n",
    "from __future__ import print_function\n",
    "import matplotlib.pyplot as plt\n",
    "import numpy as np\n",
    "import os\n",
    "import sys\n",
    "import tarfile\n",
    "from IPython.display import display, Image\n",
    "from scipy import ndimage\n",
    "from sklearn.linear_model import LogisticRegression\n",
    "from six.moves.urllib.request import urlretrieve\n",
    "from six.moves import cPickle as pickle\n",
    "\n",
    "# Config the matplotlib backend as plotting inline in IPython\n",
    "%matplotlib inline\n"
   ]
  },
  {
   "cell_type": "code",
   "execution_count": 2,
   "metadata": {
    "collapsed": false,
    "deletable": true,
    "editable": true
   },
   "outputs": [
    {
     "name": "stdout",
     "output_type": "stream",
     "text": [
      "Found and verified C:/Users/Jay/Documents/Code/Machine Learning/Google/notMNIST_large.tar.gz\n",
      "Found and verified C:/Users/Jay/Documents/Code/Machine Learning/Google/notMNIST_small.tar.gz\n"
     ]
    }
   ],
   "source": [
    "url = 'https://commondatastorage.googleapis.com/books1000/'\n",
    "last_percent_reported = None\n",
    "data_root = 'C:/Users/Jay/Documents/Code/Machine Learning/Google/' # Change me to store data elsewhere\n",
    "\n",
    "def download_progress_hook(count, blockSize, totalSize):\n",
    "  \"\"\"A hook to report the progress of a download. This is mostly intended for users with\n",
    "  slow internet connections. Reports every 5% change in download progress.\n",
    "  \"\"\"\n",
    "  global last_percent_reported\n",
    "  percent = int(count * blockSize * 100 / totalSize)\n",
    "\n",
    "  if last_percent_reported != percent:\n",
    "    if percent % 5 == 0:\n",
    "      sys.stdout.write(\"%s%%\" % percent)\n",
    "      sys.stdout.flush()\n",
    "    else:\n",
    "      sys.stdout.write(\".\")\n",
    "      sys.stdout.flush()\n",
    "      \n",
    "    last_percent_reported = percent\n",
    "        \n",
    "def maybe_download(filename, expected_bytes, force=False):\n",
    "  \"\"\"Download a file if not present, and make sure it's the right size.\"\"\"\n",
    "\n",
    "  dest_filename = os.path.join(data_root, filename)\n",
    "    \n",
    "  if force or not os.path.exists(dest_filename):\n",
    "    \n",
    "    print('Attempting to download:', filename) \n",
    "    filename, _ = urlretrieve(url + filename, dest_filename, reporthook=download_progress_hook)\n",
    "    print('\\nDownload Complete!')\n",
    "    \n",
    "  statinfo = os.stat(dest_filename)\n",
    "\n",
    "  if statinfo.st_size == expected_bytes:\n",
    "        \n",
    "    print('Found and verified', dest_filename)\n",
    "    \n",
    "  else:\n",
    "    \n",
    "    raise Exception(\n",
    "      'Failed to verify ' + dest_filename + '. Can you get to it with a browser?')\n",
    "    \n",
    "  return dest_filename\n",
    "\n",
    "train_filename = maybe_download('notMNIST_large.tar.gz', 247336696)\n",
    "test_filename = maybe_download('notMNIST_small.tar.gz', 8458043)"
   ]
  },
  {
   "cell_type": "code",
   "execution_count": 3,
   "metadata": {
    "collapsed": false,
    "deletable": true,
    "editable": true
   },
   "outputs": [
    {
     "name": "stdout",
     "output_type": "stream",
     "text": [
      "C:/Users/Jay/Documents/Code/Machine Learning/Google/notMNIST_large already present - Skipping extraction of C:/Users/Jay/Documents/Code/Machine Learning/Google/notMNIST_large.tar.gz.\n",
      "['C:/Users/Jay/Documents/Code/Machine Learning/Google/notMNIST_large\\\\A', 'C:/Users/Jay/Documents/Code/Machine Learning/Google/notMNIST_large\\\\B', 'C:/Users/Jay/Documents/Code/Machine Learning/Google/notMNIST_large\\\\C', 'C:/Users/Jay/Documents/Code/Machine Learning/Google/notMNIST_large\\\\D', 'C:/Users/Jay/Documents/Code/Machine Learning/Google/notMNIST_large\\\\E', 'C:/Users/Jay/Documents/Code/Machine Learning/Google/notMNIST_large\\\\F', 'C:/Users/Jay/Documents/Code/Machine Learning/Google/notMNIST_large\\\\G', 'C:/Users/Jay/Documents/Code/Machine Learning/Google/notMNIST_large\\\\H', 'C:/Users/Jay/Documents/Code/Machine Learning/Google/notMNIST_large\\\\I', 'C:/Users/Jay/Documents/Code/Machine Learning/Google/notMNIST_large\\\\J']\n",
      "C:/Users/Jay/Documents/Code/Machine Learning/Google/notMNIST_small already present - Skipping extraction of C:/Users/Jay/Documents/Code/Machine Learning/Google/notMNIST_small.tar.gz.\n",
      "['C:/Users/Jay/Documents/Code/Machine Learning/Google/notMNIST_small\\\\A', 'C:/Users/Jay/Documents/Code/Machine Learning/Google/notMNIST_small\\\\B', 'C:/Users/Jay/Documents/Code/Machine Learning/Google/notMNIST_small\\\\C', 'C:/Users/Jay/Documents/Code/Machine Learning/Google/notMNIST_small\\\\D', 'C:/Users/Jay/Documents/Code/Machine Learning/Google/notMNIST_small\\\\E', 'C:/Users/Jay/Documents/Code/Machine Learning/Google/notMNIST_small\\\\F', 'C:/Users/Jay/Documents/Code/Machine Learning/Google/notMNIST_small\\\\G', 'C:/Users/Jay/Documents/Code/Machine Learning/Google/notMNIST_small\\\\H', 'C:/Users/Jay/Documents/Code/Machine Learning/Google/notMNIST_small\\\\I', 'C:/Users/Jay/Documents/Code/Machine Learning/Google/notMNIST_small\\\\J']\n"
     ]
    }
   ],
   "source": [
    "num_classes = 10\n",
    "np.random.seed(133)\n",
    "\n",
    "def maybe_extract(filename, force=False):\n",
    "  root = os.path.splitext(os.path.splitext(filename)[0])[0]  # remove .tar.gz\n",
    "  if os.path.isdir(root) and not force:\n",
    "    # You may override by setting force=True.\n",
    "    print('%s already present - Skipping extraction of %s.' % (root, filename))\n",
    "  else:\n",
    "    print('Extracting data for %s. This may take a while. Please wait.' % root)\n",
    "    tar = tarfile.open(filename)\n",
    "    sys.stdout.flush()\n",
    "    tar.extractall(data_root)\n",
    "    tar.close()\n",
    "  data_folders = [\n",
    "    os.path.join(root, d) for d in sorted(os.listdir(root))\n",
    "    if os.path.isdir(os.path.join(root, d))]\n",
    "  if len(data_folders) != num_classes:\n",
    "    raise Exception(\n",
    "      'Expected %d folders, one per class. Found %d instead.' % (\n",
    "        num_classes, len(data_folders)))\n",
    "  print(data_folders)\n",
    "  return data_folders\n",
    "  \n",
    "train_folders = maybe_extract(train_filename)\n",
    "test_folders = maybe_extract(test_filename)"
   ]
  },
  {
   "cell_type": "code",
   "execution_count": 27,
   "metadata": {
    "collapsed": false,
    "deletable": true,
    "editable": true
   },
   "outputs": [
    {
     "data": {
      "image/png": "[encoded data removed]",
      "text/plain": [
       "<IPython.core.display.Image object>"
      ]
     },
     "metadata": {},
     "output_type": "display_data"
    }
   ],
   "source": [
    "display(Image(\"notMNIST_small/G/R2FyYW1vbmQgUmV0cm9zcGVjdGl2ZSBPUyBTU2kgTm9ybWFsLnR0Zg==.png\"))"
   ]
  },
  {
   "cell_type": "code",
   "execution_count": 35,
   "metadata": {
    "collapsed": false,
    "deletable": true,
    "editable": true,
    "scrolled": false
   },
   "outputs": [
    {
     "name": "stdout",
     "output_type": "stream",
     "text": [
      "C:/Users/Jay/Documents/Code/Machine Learning/Google/notMNIST_large\\A.pickle already present - Skipping pickling.\n",
      "C:/Users/Jay/Documents/Code/Machine Learning/Google/notMNIST_large\\B.pickle already present - Skipping pickling.\n",
      "C:/Users/Jay/Documents/Code/Machine Learning/Google/notMNIST_large\\C.pickle already present - Skipping pickling.\n",
      "C:/Users/Jay/Documents/Code/Machine Learning/Google/notMNIST_large\\D.pickle already present - Skipping pickling.\n",
      "C:/Users/Jay/Documents/Code/Machine Learning/Google/notMNIST_large\\E.pickle already present - Skipping pickling.\n",
      "C:/Users/Jay/Documents/Code/Machine Learning/Google/notMNIST_large\\F.pickle already present - Skipping pickling.\n",
      "C:/Users/Jay/Documents/Code/Machine Learning/Google/notMNIST_large\\G.pickle already present - Skipping pickling.\n",
      "C:/Users/Jay/Documents/Code/Machine Learning/Google/notMNIST_large\\H.pickle already present - Skipping pickling.\n",
      "C:/Users/Jay/Documents/Code/Machine Learning/Google/notMNIST_large\\I.pickle already present - Skipping pickling.\n",
      "C:/Users/Jay/Documents/Code/Machine Learning/Google/notMNIST_large\\J.pickle already present - Skipping pickling.\n",
      "C:/Users/Jay/Documents/Code/Machine Learning/Google/notMNIST_small\\A.pickle already present - Skipping pickling.\n",
      "C:/Users/Jay/Documents/Code/Machine Learning/Google/notMNIST_small\\B.pickle already present - Skipping pickling.\n",
      "C:/Users/Jay/Documents/Code/Machine Learning/Google/notMNIST_small\\C.pickle already present - Skipping pickling.\n",
      "C:/Users/Jay/Documents/Code/Machine Learning/Google/notMNIST_small\\D.pickle already present - Skipping pickling.\n",
      "C:/Users/Jay/Documents/Code/Machine Learning/Google/notMNIST_small\\E.pickle already present - Skipping pickling.\n",
      "C:/Users/Jay/Documents/Code/Machine Learning/Google/notMNIST_small\\F.pickle already present - Skipping pickling.\n",
      "C:/Users/Jay/Documents/Code/Machine Learning/Google/notMNIST_small\\G.pickle already present - Skipping pickling.\n",
      "C:/Users/Jay/Documents/Code/Machine Learning/Google/notMNIST_small\\H.pickle already present - Skipping pickling.\n",
      "C:/Users/Jay/Documents/Code/Machine Learning/Google/notMNIST_small\\I.pickle already present - Skipping pickling.\n",
      "C:/Users/Jay/Documents/Code/Machine Learning/Google/notMNIST_small\\J.pickle already present - Skipping pickling.\n"
     ]
    },
    {
     "data": {
      "image/png": "[encoded data removed]",
      "text/plain": [
       "<matplotlib.figure.Figure at 0x412962c4a8>"
      ]
     },
     "metadata": {},
     "output_type": "display_data"
    }
   ],
   "source": [
    "image_size = 28  # Pixel width and height.\n",
    "pixel_depth = 255.0  # Number of levels per pixel.\n",
    "\n",
    "def load_letter(folder, min_num_images):\n",
    "  \"\"\"Load the data for a single letter label.\"\"\"\n",
    "\n",
    "  image_files = os.listdir(folder)\n",
    "  dataset = np.ndarray(shape=(len(image_files), image_size, image_size), dtype=np.float32)\n",
    "  print(folder)\n",
    "    \n",
    "  num_images = 0\n",
    "  for image in image_files:\n",
    "        \n",
    "    image_file = os.path.join(folder, image)\n",
    "    \n",
    "    try:        \n",
    "      image_data = (ndimage.imread(image_file).astype(float) - pixel_depth / 2) / pixel_depth #value normalization to zero mean\n",
    "    \n",
    "      if image_data.shape != (image_size, image_size):\n",
    "        raise Exception('Unexpected image shape: %s' % str(image_data.shape))\n",
    "        \n",
    "      dataset[num_images, :, :] = image_data\n",
    "      num_images = num_images + 1\n",
    "        \n",
    "    except IOError as e:\n",
    "      print('Could not read:', image_file, ':', e, '- it\\'s ok, skipping.')\n",
    "    \n",
    "  dataset = dataset[0:num_images, :, :]\n",
    "  if num_images < min_num_images:\n",
    "    raise Exception('Many fewer images than expected: %d < %d' % (num_images, min_num_images))\n",
    "    \n",
    "  print('Full dataset tensor:', dataset.shape)\n",
    "  print('Mean:', np.mean(dataset))\n",
    "  print('Standard deviation:', np.std(dataset))\n",
    "\n",
    "  return dataset\n",
    "        \n",
    "def maybe_pickle(data_folders, min_num_images_per_class, force=False):\n",
    "    \n",
    "  dataset_names = []\n",
    "\n",
    "  for folder in data_folders:\n",
    "    set_filename = folder + '.pickle'\n",
    "    dataset_names.append(set_filename)\n",
    "    \n",
    "    if os.path.exists(set_filename) and not force:\n",
    "      # You may override by setting force=True.\n",
    "      print('%s already present - Skipping pickling.' % set_filename)\n",
    "        \n",
    "    else:\n",
    "      print('Pickling %s.' % set_filename)\n",
    "      dataset = load_letter(folder, min_num_images_per_class)\n",
    "        \n",
    "      try:\n",
    "        with open(set_filename, 'wb') as f:\n",
    "          pickle.dump(dataset, f, pickle.HIGHEST_PROTOCOL)\n",
    "      except Exception as e:\n",
    "        print('Unable to save data to', set_filename, ':', e)\n",
    "  \n",
    "  return dataset_names\n",
    "\n",
    "train_datasets = maybe_pickle(train_folders, 45000)\n",
    "test_datasets = maybe_pickle(test_folders, 1800)\n",
    "\n",
    "\n",
    "\n",
    "# pickle_file = train_datasets[0]  # index 0 should be all As, 1 = all Bs, etc.\n",
    "# with open(pickle_file, 'rb') as f:\n",
    "#     letter_set = pickle.load(f)  # unpickle\n",
    "#     sample_idx = np.random.randint(len(letter_set))  # pick a random image index\n",
    "#     sample_image = letter_set[sample_idx, :, :]  # extract a 2D slice\n",
    "#     plt.figure()\n",
    "#     plt.imshow(sample_image)  # display it\n",
    "\n",
    "# arr = pickle.Unpickler(open(train_datasets[6],'rb')).load()\n",
    "f = open(train_datasets[6],'rb')\n",
    "arr = pickle.load(f)\n",
    "plt.imshow(arr[8])\n",
    "plt.show()\n",
    "\n",
    "# for cls in train_datasets:\n",
    "#      arr = pickle.Unpickler(open(cls,'rb')).load()\n",
    "#      print(len(arr))"
   ]
  },
  {
   "cell_type": "code",
   "execution_count": 6,
   "metadata": {
    "collapsed": false,
    "deletable": true,
    "editable": true
   },
   "outputs": [
    {
     "name": "stdout",
     "output_type": "stream",
     "text": [
      "Training: (200000, 28, 28) (200000,)\n",
      "Validation: (10000, 28, 28) (10000,)\n",
      "Testing: (10000, 28, 28) (10000,)\n"
     ]
    }
   ],
   "source": [
    "def make_arrays(nb_rows, img_size):\n",
    "  if nb_rows:\n",
    "    dataset = np.ndarray((nb_rows, img_size, img_size), dtype=np.float32)\n",
    "    labels = np.ndarray(nb_rows, dtype=np.int32)\n",
    "  else:\n",
    "    dataset, labels = None, None\n",
    "  return dataset, labels\n",
    "\n",
    "def merge_datasets(pickle_files, train_size, valid_size=0):\n",
    "  num_classes = len(pickle_files)\n",
    "  valid_dataset, valid_labels = make_arrays(valid_size, image_size)\n",
    "  train_dataset, train_labels = make_arrays(train_size, image_size)\n",
    "  vsize_per_class = valid_size // num_classes\n",
    "  tsize_per_class = train_size // num_classes\n",
    "    \n",
    "  start_v, start_t = 0, 0\n",
    "  end_v, end_t = vsize_per_class, tsize_per_class\n",
    "  end_l = vsize_per_class + tsize_per_class\n",
    "  for label, pickle_file in enumerate(pickle_files):       \n",
    "    try:\n",
    "      with open(pickle_file, 'rb') as f:\n",
    "        letter_set = pickle.load(f)\n",
    "        # let's shuffle the letters to have random validation and training set\n",
    "        np.random.shuffle(letter_set)\n",
    "        if valid_dataset is not None:\n",
    "          valid_letter = letter_set[:vsize_per_class, :, :]\n",
    "          valid_dataset[start_v:end_v, :, :] = valid_letter\n",
    "          valid_labels[start_v:end_v] = label\n",
    "          start_v += vsize_per_class\n",
    "          end_v += vsize_per_class\n",
    "                    \n",
    "        train_letter = letter_set[vsize_per_class:end_l, :, :]\n",
    "        train_dataset[start_t:end_t, :, :] = train_letter\n",
    "        train_labels[start_t:end_t] = label\n",
    "        start_t += tsize_per_class\n",
    "        end_t += tsize_per_class\n",
    "    except Exception as e:\n",
    "      print('Unable to process data from', pickle_file, ':', e)\n",
    "      raise\n",
    "    \n",
    "  return valid_dataset, valid_labels, train_dataset, train_labels\n",
    "            \n",
    "            \n",
    "train_size = 200000\n",
    "valid_size = 10000\n",
    "test_size = 10000\n",
    "\n",
    "valid_dataset, valid_labels, train_dataset, train_labels = merge_datasets(\n",
    "  train_datasets, train_size, valid_size)\n",
    "_, _, test_dataset, test_labels = merge_datasets(test_datasets, test_size)\n",
    "\n",
    "print('Training:', train_dataset.shape, train_labels.shape)\n",
    "print('Validation:', valid_dataset.shape, valid_labels.shape)\n",
    "print('Testing:', test_dataset.shape, test_labels.shape)"
   ]
  },
  {
   "cell_type": "code",
   "execution_count": 7,
   "metadata": {
    "collapsed": true,
    "deletable": true,
    "editable": true
   },
   "outputs": [],
   "source": [
    "def randomize(dataset, labels):\n",
    "  permutation = np.random.permutation(labels.shape[0])\n",
    "  shuffled_dataset = dataset[permutation,:,:]\n",
    "  shuffled_labels = labels[permutation]\n",
    "  return shuffled_dataset, shuffled_labels\n",
    "train_dataset, train_labels = randomize(train_dataset, train_labels)\n",
    "test_dataset, test_labels = randomize(test_dataset, test_labels)\n",
    "valid_dataset, valid_labels = randomize(valid_dataset, valid_labels)"
   ]
  },
  {
   "cell_type": "code",
   "execution_count": 23,
   "metadata": {
    "collapsed": false,
    "deletable": true,
    "editable": true
   },
   "outputs": [
    {
     "data": {
      "image/png": "[encoded data removed]",
      "text/plain": [
       "<matplotlib.figure.Figure at 0x4129733a20>"
      ]
     },
     "metadata": {},
     "output_type": "display_data"
    },
    {
     "data": {
      "image/png": "[encoded data removed]",
      "text/plain": [
       "<matplotlib.figure.Figure at 0x4129733438>"
      ]
     },
     "metadata": {},
     "output_type": "display_data"
    },
    {
     "data": {
      "image/png": "[encoded data removed]",
      "text/plain": [
       "<matplotlib.figure.Figure at 0x4129959e80>"
      ]
     },
     "metadata": {},
     "output_type": "display_data"
    },
    {
     "data": {
      "image/png": "[encoded data removed]",
      "text/plain": [
       "<matplotlib.figure.Figure at 0x41296b14e0>"
      ]
     },
     "metadata": {},
     "output_type": "display_data"
    },
    {
     "data": {
      "image/png": "[encoded data removed]",
      "text/plain": [
       "<matplotlib.figure.Figure at 0x41296940f0>"
      ]
     },
     "metadata": {},
     "output_type": "display_data"
    }
   ],
   "source": [
    "# permutation = np.random.permutation(train_dataset.shape[0])\n",
    "# for i in permutation[:5]:\n",
    "#     plt.imshow(train_dataset[i])\n",
    "#     plt.show()"
   ]
  },
  {
   "cell_type": "code",
   "execution_count": null,
   "metadata": {
    "collapsed": true
   },
   "outputs": [],
   "source": [
    "pickle_file = os.path.join(data_root, 'notMNIST.pickle')\n",
    "\n",
    "try:\n",
    "  f = open(pickle_file, 'wb')\n",
    "  save = {\n",
    "    'train_dataset': train_dataset,\n",
    "    'train_labels': train_labels,\n",
    "    'valid_dataset': valid_dataset,\n",
    "    'valid_labels': valid_labels,\n",
    "    'test_dataset': test_dataset,\n",
    "    'test_labels': test_labels,\n",
    "    }\n",
    "  pickle.dump(save, f, pickle.HIGHEST_PROTOCOL)\n",
    "  f.close()\n",
    "except Exception as e:\n",
    "  print('Unable to save data to', pickle_file, ':', e)\n",
    "  raise"
   ]
  },
  {
   "cell_type": "code",
   "execution_count": 26,
   "metadata": {
    "collapsed": false
   },
   "outputs": [
    {
     "name": "stdout",
     "output_type": "stream",
     "text": [
      "Compressed pickle size: 690800503\n",
      "os.stat_result(st_mode=33206, st_ino=47850746040865509, st_dev=710840525, st_nlink=1, st_uid=0, st_gid=0, st_size=690800503, st_atime=1497331198, st_mtime=1497332618, st_ctime=1497331198)\n"
     ]
    }
   ],
   "source": [
    "statinfo = os.stat(pickle_file)\n",
    "print('Compressed pickle size:', statinfo.st_size)"
   ]
  },
  {
   "cell_type": "code",
   "execution_count": null,
   "metadata": {
    "collapsed": true
   },
   "outputs": [],
   "source": []
  }
 ],
 "metadata": {
  "kernelspec": {
   "display_name": "Python 3",
   "language": "python",
   "name": "python3"
  },
  "language_info": {
   "codemirror_mode": {
    "name": "ipython",
    "version": 3
   },
   "file_extension": ".py",
   "mimetype": "text/x-python",
   "name": "python",
   "nbconvert_exporter": "python",
   "pygments_lexer": "ipython3",
   "version": "3.5.2"
  }
 },
 "nbformat": 4,
 "nbformat_minor": 2
}
