{
 "cells": [
  {
   "cell_type": "markdown",
   "metadata": {},
   "source": [
    "# Record Linkage Comparison Analysis\n",
    "\n",
    "### Project Description\n",
    "\n",
    "This is a project that seeks to:\n",
    "* classify anonymous patient records from the [UCI Record Linkage Repository](https://archive.ics.uci.edu/ml/datasets/Record+Linkage+Comparison+Patterns)\n",
    "* decide whether some of the column information is more relevant than others in correctly classifying the records\n",
    "\n",
    "The code below implements classification using a neural network (NN). In order to investigate the relevance or otherwise of various columns, data from various combinations of columns will be fed into the NN. An analysis of the results will help to shed light on which columns of the data, if any, can be rendered redundant in the classification task.\n",
    "\n",
    "### Project Value\n",
    "\n",
    "If it turns out that some columns in the data are indeed not that relevant in correctly classifying the records, this project has the potential to reduce the amount of information required to be collected from patients in order to identify them. It would also help with record linking for patient data that is currently unclassified. This is very useful for for avoiding accidents that arise from treating patients based on inaccurate medical information, while also protecting privacy by potentially reducing the amount of information that must be obtained from patients. \n",
    "\n",
    "More generally, the potential implications are also relevant for many other sectors of society where restriction of information is of importance, such as in commerce, communications and national security.\n",
    "\n",
    "### A note on the data\n",
    "\n",
    "The data set is split into 10 blocks of (approximately) equal size and ratio of matches to non-matches.\n",
    "\n",
    "The data contains 5,749,132 records, of which 20,931 are matches. This means that it is heavily skewed, with less than half of a percent representing positive cases (i.e., a match). Some strategies employed to mitigate this skew are:\n",
    "* Including only a subset of the negative cases in training the algorithm. In the code below, a positive:negative ratio of 4:1 is used.\n",
    "* Increasing the weights of the positive examples over the negative examples in the data during training.\n",
    "* Assessing the algorithm's performance using a precision-recall approach ([F1 score](https://en.wikipedia.org/wiki/F1_score)), rather than prediction accuracy.\n",
    "\n",
    "### Data column description:\n",
    "\n",
    "1. id_1: internal identifier of first record. \n",
    "2. id_2: internal identifier of second record. \n",
    "3. cmp_fname_c1: agreement of first name, first component \n",
    "4. cmp_fname_c2: agreement of first name, second component \n",
    "5. cmp_lname_c1: agreement of family name, first component \n",
    "6. cmp_lname_c2: agreement of family name, second component \n",
    "7. cmp_sex: agreement sex \n",
    "8. cmp_bd: agreement of date of birth, day component \n",
    "9. cmp_bm: agreement of date of birth, month component \n",
    "10. cmp_by: agreement of date of birth, year component \n",
    "11. cmp_plz: agreement of postal code \n",
    "12. is_match: matching status (TRUE for matches, FALSE for non-matches) "
   ]
  },
  {
   "cell_type": "code",
   "execution_count": 1,
   "metadata": {
    "collapsed": true
   },
   "outputs": [],
   "source": [
    "from __future__ import print_function\n",
    "import numpy as np\n",
    "import pandas as pd\n",
    "import seaborn as sns\n",
    "import tensorflow as tf\n",
    "from six.moves import cPickle as pickle\n",
    "from sklearn.utils import shuffle\n",
    "import math as math\n",
    "import matplotlib.pyplot as plt"
   ]
  },
  {
   "cell_type": "code",
   "execution_count": 2,
   "metadata": {
    "collapsed": true
   },
   "outputs": [],
   "source": [
    "# read in data\n",
    "block_1 = pd.read_csv('Records/block_1.csv')\n",
    "block_2 = pd.read_csv('Records/block_2.csv')\n",
    "block_3 = pd.read_csv('Records/block_3.csv')\n",
    "block_4 = pd.read_csv('Records/block_4.csv')\n",
    "block_5 = pd.read_csv('Records/block_5.csv')\n",
    "block_6 = pd.read_csv('Records/block_6.csv')\n",
    "block_7 = pd.read_csv('Records/block_7.csv')\n",
    "block_8 = pd.read_csv('Records/block_8.csv')\n",
    "block_9 = pd.read_csv('Records/block_9.csv')\n",
    "block_10 = pd.read_csv('Records/block_10.csv')"
   ]
  },
  {
   "cell_type": "code",
   "execution_count": 3,
   "metadata": {
    "collapsed": true
   },
   "outputs": [],
   "source": [
    "# merge data\n",
    "block = pd.concat([block_1, block_2, block_3, block_4, block_5, block_6, block_7, block_8, block_9, block_10])"
   ]
  },
  {
   "cell_type": "markdown",
   "metadata": {},
   "source": [
    "'block' can be saved to avoid having to reload all 10 blocks in the future:"
   ]
  },
  {
   "cell_type": "code",
   "execution_count": 4,
   "metadata": {
    "collapsed": true
   },
   "outputs": [],
   "source": [
    "# save 'block'\n",
    "pickled = open(\"pickled_data/block.pickle\",\"wb\")\n",
    "pickle.dump(block, pickled)\n",
    "pickled.close()"
   ]
  },
  {
   "cell_type": "markdown",
   "metadata": {},
   "source": [
    "The code block below reads in 'block' whenever needed:"
   ]
  },
  {
   "cell_type": "code",
   "execution_count": 3,
   "metadata": {
    "collapsed": true
   },
   "outputs": [],
   "source": [
    "# read in 'block'\n",
    "read_pickled = open(\"pickled_data/block.pickle\",\"rb\")\n",
    "block = pickle.load(read_pickled)\n",
    "read_pickled.close()"
   ]
  },
  {
   "cell_type": "code",
   "execution_count": 31,
   "metadata": {},
   "outputs": [
    {
     "data": {
      "text/html": [
       "<div>\n",
       "<table border=\"1\" class=\"dataframe\">\n",
       "  <thead>\n",
       "    <tr style=\"text-align: right;\">\n",
       "      <th></th>\n",
       "      <th>id_1</th>\n",
       "      <th>id_2</th>\n",
       "      <th>cmp_fname_c1</th>\n",
       "      <th>cmp_fname_c2</th>\n",
       "      <th>cmp_lname_c1</th>\n",
       "      <th>cmp_lname_c2</th>\n",
       "      <th>cmp_sex</th>\n",
       "      <th>cmp_bd</th>\n",
       "      <th>cmp_bm</th>\n",
       "      <th>cmp_by</th>\n",
       "      <th>cmp_plz</th>\n",
       "      <th>is_match</th>\n",
       "    </tr>\n",
       "  </thead>\n",
       "  <tbody>\n",
       "    <tr>\n",
       "      <th>0</th>\n",
       "      <td>37291</td>\n",
       "      <td>53113</td>\n",
       "      <td>0.833333333333333</td>\n",
       "      <td>?</td>\n",
       "      <td>1.0</td>\n",
       "      <td>?</td>\n",
       "      <td>1</td>\n",
       "      <td>1</td>\n",
       "      <td>1</td>\n",
       "      <td>1</td>\n",
       "      <td>0</td>\n",
       "      <td>True</td>\n",
       "    </tr>\n",
       "    <tr>\n",
       "      <th>1</th>\n",
       "      <td>39086</td>\n",
       "      <td>47614</td>\n",
       "      <td>1</td>\n",
       "      <td>?</td>\n",
       "      <td>1.0</td>\n",
       "      <td>?</td>\n",
       "      <td>1</td>\n",
       "      <td>1</td>\n",
       "      <td>1</td>\n",
       "      <td>1</td>\n",
       "      <td>1</td>\n",
       "      <td>True</td>\n",
       "    </tr>\n",
       "    <tr>\n",
       "      <th>2</th>\n",
       "      <td>70031</td>\n",
       "      <td>70237</td>\n",
       "      <td>1</td>\n",
       "      <td>?</td>\n",
       "      <td>1.0</td>\n",
       "      <td>?</td>\n",
       "      <td>1</td>\n",
       "      <td>1</td>\n",
       "      <td>1</td>\n",
       "      <td>1</td>\n",
       "      <td>1</td>\n",
       "      <td>True</td>\n",
       "    </tr>\n",
       "    <tr>\n",
       "      <th>3</th>\n",
       "      <td>84795</td>\n",
       "      <td>97439</td>\n",
       "      <td>1</td>\n",
       "      <td>?</td>\n",
       "      <td>1.0</td>\n",
       "      <td>?</td>\n",
       "      <td>1</td>\n",
       "      <td>1</td>\n",
       "      <td>1</td>\n",
       "      <td>1</td>\n",
       "      <td>1</td>\n",
       "      <td>True</td>\n",
       "    </tr>\n",
       "    <tr>\n",
       "      <th>4</th>\n",
       "      <td>36950</td>\n",
       "      <td>42116</td>\n",
       "      <td>1</td>\n",
       "      <td>?</td>\n",
       "      <td>1.0</td>\n",
       "      <td>1</td>\n",
       "      <td>1</td>\n",
       "      <td>1</td>\n",
       "      <td>1</td>\n",
       "      <td>1</td>\n",
       "      <td>1</td>\n",
       "      <td>True</td>\n",
       "    </tr>\n",
       "  </tbody>\n",
       "</table>\n",
       "</div>"
      ],
      "text/plain": [
       "    id_1   id_2       cmp_fname_c1 cmp_fname_c2  cmp_lname_c1 cmp_lname_c2  \\\n",
       "0  37291  53113  0.833333333333333            ?           1.0            ?   \n",
       "1  39086  47614                  1            ?           1.0            ?   \n",
       "2  70031  70237                  1            ?           1.0            ?   \n",
       "3  84795  97439                  1            ?           1.0            ?   \n",
       "4  36950  42116                  1            ?           1.0            1   \n",
       "\n",
       "   cmp_sex cmp_bd cmp_bm cmp_by cmp_plz is_match  \n",
       "0        1      1      1      1       0     True  \n",
       "1        1      1      1      1       1     True  \n",
       "2        1      1      1      1       1     True  \n",
       "3        1      1      1      1       1     True  \n",
       "4        1      1      1      1       1     True  "
      ]
     },
     "execution_count": 31,
     "metadata": {},
     "output_type": "execute_result"
    }
   ],
   "source": [
    "# display a subset of the data\n",
    "\n",
    "block.head()"
   ]
  },
  {
   "cell_type": "markdown",
   "metadata": {},
   "source": [
    "The columns '*cmp_fname_c2*' and '*cmp_lname_c2*' are made up almost entirely of '*?*' (unknown), so they will be excluded from the data"
   ]
  },
  {
   "cell_type": "code",
   "execution_count": 13,
   "metadata": {},
   "outputs": [
    {
     "data": {
      "text/plain": [
       "98.196284239081649"
      ]
     },
     "execution_count": 13,
     "metadata": {},
     "output_type": "execute_result"
    }
   ],
   "source": [
    "# % of '?' in cmp_fname_c2\n",
    "block['cmp_fname_c2'].value_counts()['?']/block['cmp_fname_c2'].count() * 100"
   ]
  },
  {
   "cell_type": "code",
   "execution_count": 14,
   "metadata": {},
   "outputs": [
    {
     "data": {
      "text/plain": [
       "99.957141356295182"
      ]
     },
     "execution_count": 14,
     "metadata": {},
     "output_type": "execute_result"
    }
   ],
   "source": [
    "# % of '?' in cmp_lname_c2\n",
    "block['cmp_lname_c2'].value_counts()['?']/block['cmp_lname_c2'].count() * 100"
   ]
  },
  {
   "cell_type": "code",
   "execution_count": 35,
   "metadata": {
    "collapsed": true,
    "scrolled": true
   },
   "outputs": [],
   "source": [
    "# select columns (drop cmp_fname_c2 and cmp_lname_c2 - they contain almost all '?' (unknown))\n",
    "block = block.loc[:,['cmp_fname_c1','cmp_lname_c1','cmp_sex','cmp_bd','cmp_bm','cmp_by','cmp_plz','is_match']]"
   ]
  },
  {
   "cell_type": "code",
   "execution_count": 36,
   "metadata": {
    "collapsed": true
   },
   "outputs": [],
   "source": [
    "# drop rows containing '?' (unknown)\n",
    "block = block[(block['cmp_plz'] != '?')]"
   ]
  },
  {
   "cell_type": "code",
   "execution_count": 37,
   "metadata": {
    "collapsed": true
   },
   "outputs": [],
   "source": [
    "block = block[(block['cmp_by'] != '?')]"
   ]
  },
  {
   "cell_type": "code",
   "execution_count": 38,
   "metadata": {
    "collapsed": true
   },
   "outputs": [],
   "source": [
    "block = block[(block['cmp_fname_c1'] != '?')]"
   ]
  },
  {
   "cell_type": "code",
   "execution_count": 39,
   "metadata": {
    "collapsed": true
   },
   "outputs": [],
   "source": [
    "# separate data into match and non-match sets for separate analysis\n",
    "match = block[(block['is_match'] == True)]"
   ]
  },
  {
   "cell_type": "code",
   "execution_count": 12,
   "metadata": {
    "collapsed": true
   },
   "outputs": [],
   "source": [
    "non_match = block[(block['is_match'] == False)]"
   ]
  },
  {
   "cell_type": "markdown",
   "metadata": {},
   "source": [
    "Once again, 'match' and 'non_match' can be saved to avoid having to go through all the above data wrangling in the future:"
   ]
  },
  {
   "cell_type": "code",
   "execution_count": 13,
   "metadata": {
    "collapsed": true,
    "scrolled": true
   },
   "outputs": [],
   "source": [
    "# save 'match' and 'non_match'\n",
    "\n",
    "pickled = open(\"pickled_data/match.pickle\",\"wb\")\n",
    "pickle.dump(non_match, pickled)\n",
    "pickled.close()\n",
    "\n",
    "pickled = open(\"pickled_data/match.pickle\",\"wb\")\n",
    "pickle.dump(non_match, pickled)\n",
    "pickled.close()"
   ]
  },
  {
   "cell_type": "markdown",
   "metadata": {
    "collapsed": true
   },
   "source": [
    "The block below reads in 'match' and 'non_match' whenever needed:"
   ]
  },
  {
   "cell_type": "code",
   "execution_count": 4,
   "metadata": {
    "collapsed": true
   },
   "outputs": [],
   "source": [
    "# read in 'match' and 'non_match'\n",
    "\n",
    "read_pickled = open(\"pickled_data/match.pickle\",\"rb\")\n",
    "match = pickle.load(read_pickled)\n",
    "read_pickled.close()\n",
    "\n",
    "read_pickled = open(\"pickled_data/non_match.pickle\",\"rb\")\n",
    "non_match = pickle.load(read_pickled)\n",
    "read_pickled.close()"
   ]
  },
  {
   "cell_type": "markdown",
   "metadata": {},
   "source": [
    "Display subsets of 'match' and 'non_match':"
   ]
  },
  {
   "cell_type": "code",
   "execution_count": 40,
   "metadata": {},
   "outputs": [
    {
     "data": {
      "text/html": [
       "<div>\n",
       "<table border=\"1\" class=\"dataframe\">\n",
       "  <thead>\n",
       "    <tr style=\"text-align: right;\">\n",
       "      <th></th>\n",
       "      <th>cmp_fname_c1</th>\n",
       "      <th>cmp_lname_c1</th>\n",
       "      <th>cmp_sex</th>\n",
       "      <th>cmp_bd</th>\n",
       "      <th>cmp_bm</th>\n",
       "      <th>cmp_by</th>\n",
       "      <th>cmp_plz</th>\n",
       "      <th>is_match</th>\n",
       "    </tr>\n",
       "  </thead>\n",
       "  <tbody>\n",
       "    <tr>\n",
       "      <th>0</th>\n",
       "      <td>0.833333333333333</td>\n",
       "      <td>1.0</td>\n",
       "      <td>1</td>\n",
       "      <td>1</td>\n",
       "      <td>1</td>\n",
       "      <td>1</td>\n",
       "      <td>0</td>\n",
       "      <td>True</td>\n",
       "    </tr>\n",
       "    <tr>\n",
       "      <th>1</th>\n",
       "      <td>1</td>\n",
       "      <td>1.0</td>\n",
       "      <td>1</td>\n",
       "      <td>1</td>\n",
       "      <td>1</td>\n",
       "      <td>1</td>\n",
       "      <td>1</td>\n",
       "      <td>True</td>\n",
       "    </tr>\n",
       "    <tr>\n",
       "      <th>2</th>\n",
       "      <td>1</td>\n",
       "      <td>1.0</td>\n",
       "      <td>1</td>\n",
       "      <td>1</td>\n",
       "      <td>1</td>\n",
       "      <td>1</td>\n",
       "      <td>1</td>\n",
       "      <td>True</td>\n",
       "    </tr>\n",
       "    <tr>\n",
       "      <th>3</th>\n",
       "      <td>1</td>\n",
       "      <td>1.0</td>\n",
       "      <td>1</td>\n",
       "      <td>1</td>\n",
       "      <td>1</td>\n",
       "      <td>1</td>\n",
       "      <td>1</td>\n",
       "      <td>True</td>\n",
       "    </tr>\n",
       "    <tr>\n",
       "      <th>4</th>\n",
       "      <td>1</td>\n",
       "      <td>1.0</td>\n",
       "      <td>1</td>\n",
       "      <td>1</td>\n",
       "      <td>1</td>\n",
       "      <td>1</td>\n",
       "      <td>1</td>\n",
       "      <td>True</td>\n",
       "    </tr>\n",
       "  </tbody>\n",
       "</table>\n",
       "</div>"
      ],
      "text/plain": [
       "        cmp_fname_c1  cmp_lname_c1  cmp_sex cmp_bd cmp_bm cmp_by cmp_plz  \\\n",
       "0  0.833333333333333           1.0        1      1      1      1       0   \n",
       "1                  1           1.0        1      1      1      1       1   \n",
       "2                  1           1.0        1      1      1      1       1   \n",
       "3                  1           1.0        1      1      1      1       1   \n",
       "4                  1           1.0        1      1      1      1       1   \n",
       "\n",
       "  is_match  \n",
       "0     True  \n",
       "1     True  \n",
       "2     True  \n",
       "3     True  \n",
       "4     True  "
      ]
     },
     "execution_count": 40,
     "metadata": {},
     "output_type": "execute_result"
    }
   ],
   "source": [
    "match.head()"
   ]
  },
  {
   "cell_type": "code",
   "execution_count": 5,
   "metadata": {
    "scrolled": false
   },
   "outputs": [
    {
     "data": {
      "text/html": [
       "<div>\n",
       "<table border=\"1\" class=\"dataframe\">\n",
       "  <thead>\n",
       "    <tr style=\"text-align: right;\">\n",
       "      <th></th>\n",
       "      <th>cmp_fname_c1</th>\n",
       "      <th>cmp_lname_c1</th>\n",
       "      <th>cmp_sex</th>\n",
       "      <th>cmp_bd</th>\n",
       "      <th>cmp_bm</th>\n",
       "      <th>cmp_by</th>\n",
       "      <th>cmp_plz</th>\n",
       "      <th>is_match</th>\n",
       "    </tr>\n",
       "  </thead>\n",
       "  <tbody>\n",
       "    <tr>\n",
       "      <th>2093</th>\n",
       "      <td>1</td>\n",
       "      <td>0.166667</td>\n",
       "      <td>1</td>\n",
       "      <td>0</td>\n",
       "      <td>0</td>\n",
       "      <td>1</td>\n",
       "      <td>0</td>\n",
       "      <td>False</td>\n",
       "    </tr>\n",
       "    <tr>\n",
       "      <th>2094</th>\n",
       "      <td>1</td>\n",
       "      <td>0.200000</td>\n",
       "      <td>1</td>\n",
       "      <td>0</td>\n",
       "      <td>0</td>\n",
       "      <td>1</td>\n",
       "      <td>0</td>\n",
       "      <td>False</td>\n",
       "    </tr>\n",
       "    <tr>\n",
       "      <th>2095</th>\n",
       "      <td>0</td>\n",
       "      <td>0.500000</td>\n",
       "      <td>1</td>\n",
       "      <td>0</td>\n",
       "      <td>0</td>\n",
       "      <td>0</td>\n",
       "      <td>0</td>\n",
       "      <td>False</td>\n",
       "    </tr>\n",
       "    <tr>\n",
       "      <th>2096</th>\n",
       "      <td>1</td>\n",
       "      <td>0.333333</td>\n",
       "      <td>1</td>\n",
       "      <td>1</td>\n",
       "      <td>0</td>\n",
       "      <td>0</td>\n",
       "      <td>0</td>\n",
       "      <td>False</td>\n",
       "    </tr>\n",
       "    <tr>\n",
       "      <th>2097</th>\n",
       "      <td>1</td>\n",
       "      <td>0.111111</td>\n",
       "      <td>1</td>\n",
       "      <td>0</td>\n",
       "      <td>0</td>\n",
       "      <td>1</td>\n",
       "      <td>0</td>\n",
       "      <td>False</td>\n",
       "    </tr>\n",
       "  </tbody>\n",
       "</table>\n",
       "</div>"
      ],
      "text/plain": [
       "     cmp_fname_c1  cmp_lname_c1  cmp_sex cmp_bd cmp_bm cmp_by cmp_plz is_match\n",
       "2093            1      0.166667        1      0      0      1       0    False\n",
       "2094            1      0.200000        1      0      0      1       0    False\n",
       "2095            0      0.500000        1      0      0      0       0    False\n",
       "2096            1      0.333333        1      1      0      0       0    False\n",
       "2097            1      0.111111        1      0      0      1       0    False"
      ]
     },
     "execution_count": 5,
     "metadata": {},
     "output_type": "execute_result"
    }
   ],
   "source": [
    "non_match.head()"
   ]
  },
  {
   "cell_type": "markdown",
   "metadata": {},
   "source": [
    "Plotting a correlation heatmap helps to give some rudimentary information about the relationships of the various columns to each other\n"
   ]
  },
  {
   "cell_type": "code",
   "execution_count": 112,
   "metadata": {
    "collapsed": true
   },
   "outputs": [],
   "source": [
    "# exclude last column (match label)\n",
    "match_sub = match.iloc[:, :-1]\n",
    "non_match_sub = non_match.iloc[:, :-1]"
   ]
  },
  {
   "cell_type": "code",
   "execution_count": 117,
   "metadata": {
    "collapsed": true
   },
   "outputs": [],
   "source": [
    "# cast to numeric ('coerce' repaces errors with NaN)\n",
    "match_sub = match_sub.apply(pd.to_numeric, errors = 'coerce')\n",
    "non_match_sub = non_match_sub.apply(pd.to_numeric, errors = 'coerce')"
   ]
  },
  {
   "cell_type": "code",
   "execution_count": 118,
   "metadata": {
    "scrolled": true
   },
   "outputs": [
    {
     "data": {
      "text/plain": [
       "<matplotlib.text.Text at 0xb5024f8438>"
      ]
     },
     "execution_count": 118,
     "metadata": {},
     "output_type": "execute_result"
    },
    {
     "data": {
      "image/png": "[encoded data removed]",
      "text/plain": [
       "<matplotlib.figure.Figure at 0xb50a5199b0>"
      ]
     },
     "metadata": {},
     "output_type": "display_data"
    }
   ],
   "source": [
    "# plot correlation heatmaps\n",
    "%matplotlib inline\n",
    "fig, ax = plt.subplots(1, 2, figsize = plt.figaspect(0.3))\n",
    "sns.heatmap((match_sub.corr()), ax = ax[0])\n",
    "sns.heatmap((non_match_sub.corr()), ax = ax[1])\n",
    "ax[0].set_title('Match')\n",
    "ax[1].set_title('Non-Match')"
   ]
  },
  {
   "cell_type": "markdown",
   "metadata": {},
   "source": [
    "A cursory glance at the heatmap points to the birthdate information ('cmp_bd', 'cmp_bm' and 'cmp_by') as a possibly related group of columns. We will investigate this group later with the neural network."
   ]
  },
  {
   "cell_type": "markdown",
   "metadata": {},
   "source": [
    "Data from 'match' and 'non_match' can now be combined to create training, validation and testing sets for the neural network.\n",
    "\n",
    "* Both sets ('match' and 'non_match') will be shuffled just to get rid of any possible ordering that may exist in the data\n",
    "* Both sets will be divided into training, validation and testing slices in the ratio 3:1:1"
   ]
  },
  {
   "cell_type": "code",
   "execution_count": 6,
   "metadata": {
    "collapsed": true
   },
   "outputs": [],
   "source": [
    "# shuffle the data\n",
    "match = shuffle(match)\n",
    "non_match = shuffle(non_match)"
   ]
  },
  {
   "cell_type": "code",
   "execution_count": 7,
   "metadata": {
    "collapsed": true,
    "scrolled": true
   },
   "outputs": [],
   "source": [
    "# split into training, validation and testing sets in the ration 3:1:1\n",
    "\n",
    "fifth = len(match)//5\n",
    "match_train = match.iloc[0:3*fifth, :]\n",
    "match_val = match.iloc[1 + 3*fifth:4*fifth, :]\n",
    "match_test = match.iloc[1 + 4*fifth:, :]"
   ]
  },
  {
   "cell_type": "code",
   "execution_count": 8,
   "metadata": {
    "collapsed": true
   },
   "outputs": [],
   "source": [
    "fifth = len(non_match)//5\n",
    "non_match_train = non_match.iloc[0:3*fifth, :]\n",
    "non_match_val = non_match.iloc[1 + 3*fifth:4*fifth, :]\n",
    "non_match_test = non_match.iloc[1 + 4*fifth:, :]"
   ]
  },
  {
   "cell_type": "markdown",
   "metadata": {},
   "source": [
    "The data is heavily skewed - only 0.36% of the entire data constitutes the match set.\n",
    "* To reduce the effect of this skew, we will combine the training and validation match sets with only a subset of the non_match sets to give a match:non_match ratio of 1:4\n",
    "* All the data in the test set will be retained to simulate real-world data for testing\n",
    "* The combined 'match'+'non_match' data sets will be shuffled again"
   ]
  },
  {
   "cell_type": "code",
   "execution_count": 9,
   "metadata": {
    "collapsed": true
   },
   "outputs": [],
   "source": [
    "# merge match set with slice of non_match set that is 4 times the length of match set\n",
    "train_set = pd.concat([match_train, non_match_train.iloc[0:4*len(match_train),:]])\n",
    "val_set = pd.concat([match_val, non_match_val.iloc[0:4*len(match_val),:]])\n",
    "\n",
    "# leave test set whole (real-world data)\n",
    "test_set = pd.concat([match_test, non_match_test])"
   ]
  },
  {
   "cell_type": "code",
   "execution_count": 11,
   "metadata": {
    "collapsed": true
   },
   "outputs": [],
   "source": [
    "# shuffle again\n",
    "train_set = shuffle(train_set)\n",
    "val_set = shuffle(val_set)\n",
    "test_set = shuffle(test_set)\n",
    "\n",
    "# df = df.sample(frac=1).reset_index(drop=True)"
   ]
  },
  {
   "cell_type": "markdown",
   "metadata": {},
   "source": [
    "We will train the neural network with 3 variations of columns in 'train_set'. Based on the preliminary observation from the correlation heatmap:\n",
    "* 'all_columns' will contain all the 7 features of interest: 'cmp_fname_c1','cmp_lname_c1','cmp_sex','cmp_bd','cmp_bm','cmp_by' and 'cmp_plz'\n",
    "* 'set_1' will contain the 3 features representing birth date information: 'cmp_bd', 'cmp_bm' and 'cmp_by'\n",
    "* 'set_2' will contain the other 4 features: 'cmp_fname_c1','cmp_lname_c1','cmp_by' and 'cmp_plz'\n",
    "\n",
    "Since our neural network will be implementing binary classification, it will be beneficial to represent our labels as [1 0] (representing a '1' or a match) and [0 1] (representing a '0' or no match). A helper function '**shape_labels**' will help to shape the label columns into the appropriate two-column represtations."
   ]
  },
  {
   "cell_type": "code",
   "execution_count": 13,
   "metadata": {
    "collapsed": true
   },
   "outputs": [],
   "source": [
    "def shape_labels(labels, dim):\n",
    "    \n",
    "    shaped_labels = np.zeros((len(labels), dim))\n",
    "    shaped_labels[:,0] = labels\n",
    "    shaped_labels[:,1] = 1 - labels\n",
    "    \n",
    "    return shaped_labels"
   ]
  },
  {
   "cell_type": "code",
   "execution_count": 81,
   "metadata": {
    "collapsed": true
   },
   "outputs": [],
   "source": [
    "# Create input and label sets for all_columns\n",
    "\n",
    "train_input = np.array(train_set.iloc[:, :-1]).astype(np.float32)\n",
    "temp_labels = np.array((train_set.iloc[:, -1]).astype(np.float32))\n",
    "train_labels = shape_labels(temp_labels, 2).astype(np.float32)\n",
    "\n",
    "val_input = np.array(val_set.iloc[:, :-1]).astype(np.float32)\n",
    "temp_labels = np.array((val_set.iloc[:, -1]).astype(np.float32))\n",
    "val_labels = shape_labels(temp_labels, 2).astype(np.float32)\n",
    "\n",
    "test_input = np.array(test_set.iloc[:, :-1]).astype(np.float32)\n",
    "temp_labels = np.array((test_set.iloc[:, -1]).astype(np.float32))\n",
    "test_labels = shape_labels(temp_labels, 2).astype(np.float32)"
   ]
  },
  {
   "cell_type": "code",
   "execution_count": null,
   "metadata": {
    "collapsed": true
   },
   "outputs": [],
   "source": [
    "# Create input and label sets for set_1 ('cmp_bd', 'cmp_bm' and 'cmp_by')\n",
    "\n",
    "# train_input = np.array(train_set.loc[:,['cmp_bd','cmp_bm','cmp_by']]).astype(np.float32)\n",
    "# temp_labels = np.array((train_set.iloc[:, -1]).astype(np.float32))\n",
    "# train_labels = shape_labels(temp_labels, 2).astype(np.float32)\n",
    "\n",
    "# val_input = np.array(val_set.loc[:,['cmp_bd','cmp_bm','cmp_by']]).astype(np.float32)\n",
    "# temp_labels = np.array((val_set.iloc[:, -1]).astype(np.float32))\n",
    "# val_labels = shape_labels(temp_labels, 2).astype(np.float32)\n",
    "\n",
    "# test_input = np.array(test_set.loc[:,['cmp_bd','cmp_bm','cmp_by']]).astype(np.float32)\n",
    "# temp_labels = np.array((test_set.iloc[:, -1]).astype(np.float32))\n",
    "# test_labels = shape_labels(temp_labels, 2).astype(np.float32)"
   ]
  },
  {
   "cell_type": "code",
   "execution_count": 106,
   "metadata": {
    "collapsed": true
   },
   "outputs": [],
   "source": [
    "# Create input and label sets for set_2 ('cmp_fname_c1','cmp_lname_c1','cmp_by' and 'cmp_plz')\n",
    "\n",
    "# train_input = np.array(train_set.loc[:,['cmp_fname_c1','cmp_lname_c1','cmp_sex','cmp_plz']]).astype(np.float32)\n",
    "# temp_labels = np.array((train_set.iloc[:, -1]).astype(np.float32))\n",
    "# train_labels = shape_labels(temp_labels, 2).astype(np.float32)\n",
    "\n",
    "# val_input = np.array(val_set.loc[:,['cmp_fname_c1','cmp_lname_c1','cmp_sex','cmp_plz']]).astype(np.float32)\n",
    "# temp_labels = np.array((val_set.iloc[:, -1]).astype(np.float32))\n",
    "# val_labels = shape_labels(temp_labels, 2).astype(np.float32)\n",
    "\n",
    "# test_input = np.array(test_set.loc[:,['cmp_fname_c1','cmp_lname_c1','cmp_sex','cmp_plz']]).astype(np.float32)\n",
    "# temp_labels = np.array((test_set.iloc[:, -1]).astype(np.float32))\n",
    "# test_labels = shape_labels(temp_labels, 2).astype(np.float32)"
   ]
  },
  {
   "cell_type": "markdown",
   "metadata": {},
   "source": [
    "We are now ready to model the neural network.\n",
    "\n",
    "The model employed is as follows:\n",
    "* 3 hidden layers (1024 nodes each)\n",
    " - RELU (Rectified Linear Unit) activation functions\n",
    "* Overfitting controls\n",
    " - Regularization using a learning rate with exponential decay\n",
    " - Dropout implemented on the first hidden layer\n",
    "* Data skew control\n",
    " - Biased weighting of the under-represented positive examples\n",
    "* Performance assessment\n",
    " - Precision-recall (F1 score)"
   ]
  },
  {
   "cell_type": "code",
   "execution_count": 107,
   "metadata": {
    "collapsed": true
   },
   "outputs": [],
   "source": [
    "'''\n",
    "Model:\n",
    "\n",
    "--> NN with 3 hidden layers\n",
    "    > RELUs\n",
    "    \n",
    "--> Overfitting measures\n",
    "    > L2 Regularization\n",
    "        -> Learning rate (beta) with exponential decay\n",
    "    > Dropout\n",
    "    \n",
    "--> Skew control\n",
    "    > Biased weighting of the under-represented positive examples\n",
    "    \n",
    "--> Assessment via precision-recall (F1 score)\n",
    "\n",
    "'''\n",
    "\n",
    "all_columns = ['cmp_fname_c1','cmp_lname_c1','cmp_sex','cmp_bd','cmp_bm','cmp_by','cmp_plz']\n",
    "set_1 = ['cmp_bd','cmp_bm','cmp_by']\n",
    "set_2 = ['cmp_fname_c1','cmp_lname_c1','cmp_sex','cmp_plz']\n",
    "features = set_2\n",
    "\n",
    "batch_size = 128\n",
    "beta = 0.05\n",
    "start_learning_rate = 0.5\n",
    "p_weight = 0.5 # weight in loss function for positive examples\n",
    "\n",
    "input_nodes = len(features)\n",
    "hidden_nodes_1 = 1024\n",
    "hidden_nodes_2 = hidden_nodes_1\n",
    "hidden_nodes_3 = hidden_nodes_1\n",
    "num_labels = 2\n",
    "\n",
    "pos, neg = np.zeros((1, 2)), np.zeros((1, 2))\n",
    "pos[0][0]  = 1\n",
    "neg[0][1]  = 1\n",
    "\n",
    "pred_cutoff = 0.5 # cutoff for predicting 1 or 0\n",
    "\n",
    "test_sample = 50000 # length of test input to use\n",
    "\n",
    "graph = tf.Graph()\n",
    "with graph.as_default():\n",
    "\n",
    "    '''Input Data'''\n",
    "    # For the training data, we use a placeholder that will be fed at run time with a training minibatch.\n",
    "    tf_train_dataset = tf.placeholder(tf.float32, shape=(batch_size, input_nodes))\n",
    "    tf_train_labels = tf.placeholder(tf.float32, shape=(batch_size, num_labels))\n",
    "    tf_valid_dataset = tf.constant(val_input)\n",
    "    tf_valid_labels = tf.constant(val_labels)\n",
    "    tf_test_dataset = tf.constant(test_input[0:test_sample,:])\n",
    "    tf_test_labels = tf.constant(test_labels[0:test_sample,:])\n",
    "    #Placeholder for dropout probability\n",
    "    keep_prob = tf.placeholder(\"float\")\n",
    "\n",
    "    '''Variables'''\n",
    "    # Hidden RELU layer 1\n",
    "    weights_1 = tf.Variable(tf.truncated_normal([input_nodes, hidden_nodes_1], stddev=math.sqrt(2.0/input_nodes)))\n",
    "    biases_1 = tf.Variable(tf.zeros([hidden_nodes_1]))\n",
    "    \n",
    "    # Hidden RELU layer 2\n",
    "    weights_2 = tf.Variable(tf.truncated_normal([hidden_nodes_1, hidden_nodes_2], stddev=math.sqrt(2.0/hidden_nodes_1)))\n",
    "    biases_2 = tf.Variable(tf.zeros([hidden_nodes_2]))\n",
    "    \n",
    "    # Hidden RELU layer 3\n",
    "    weights_3 = tf.Variable(tf.truncated_normal([hidden_nodes_2, hidden_nodes_3], stddev=math.sqrt(2.0/hidden_nodes_2)))\n",
    "    biases_3 = tf.Variable(tf.zeros([hidden_nodes_3]))\n",
    "    \n",
    "    # Output layer\n",
    "    output_weights = tf.Variable(tf.truncated_normal([hidden_nodes_3, num_labels], stddev=math.sqrt(2.0/hidden_nodes_3)))\n",
    "    output_biases = tf.Variable(tf.zeros([num_labels]))\n",
    "    \n",
    "    \n",
    "    '''Training computation'''\n",
    "    # Hidden RELU layer 1\n",
    "    logits_1 = tf.matmul(tf_train_dataset, weights_1) + biases_1\n",
    "    hidden_layer_1 = tf.nn.relu(logits_1)\n",
    "    # Dropout on hidden layer: RELU layer\n",
    "    hidden_layer_1_dropout = tf.nn.dropout(hidden_layer_1, keep_prob)\n",
    "    \n",
    "    # Hidden RELU layer 2\n",
    "    logits_2 = tf.matmul(hidden_layer_1_dropout, weights_2) + biases_2\n",
    "    hidden_layer_2 = tf.nn.relu(logits_2)\n",
    "    # Dropout on hidden layer: RELU layer\n",
    "#     hidden_layer_2_dropout = tf.nn.dropout(hidden_layer_2, keep_prob)\n",
    "    \n",
    "    # Hidden RELU layer 3\n",
    "    logits_3 = tf.matmul(hidden_layer_2, weights_3) + biases_3\n",
    "    hidden_layer_3 = tf.nn.relu(logits_3)\n",
    "    # Dropout on hidden layer: RELU layer\n",
    "#     hidden_layer_3_dropout = tf.nn.dropout(hidden_layer_3, keep_prob)\n",
    "    \n",
    "    # Output layer\n",
    "    output_logits = tf.matmul(hidden_layer_3, output_weights) + output_biases\n",
    "    \n",
    "    \n",
    "    \n",
    "    # Loss function\n",
    "    loss = tf.reduce_mean(tf.nn.weighted_cross_entropy_with_logits(targets = tf_train_labels, logits = output_logits, pos_weight = p_weight))\n",
    "    # Loss function with L2 Regularization with decaying learning rate beta\n",
    "    regularizers = tf.nn.l2_loss(weights_1) + tf.nn.l2_loss(weights_2) + \\\n",
    "                   tf.nn.l2_loss(weights_3) + tf.nn.l2_loss(output_weights)\n",
    "\n",
    "    loss = tf.reduce_mean(loss + beta * regularizers)\n",
    "    \n",
    "    '''Optimizer'''\n",
    "    # Decaying learning rate\n",
    "    global_step = tf.Variable(0)  # count the number of steps taken.\n",
    "    learning_rate = tf.train.exponential_decay(start_learning_rate, global_step, 100, 0.96, staircase=True)\n",
    "    optimizer = tf.train.GradientDescentOptimizer(learning_rate).minimize(loss, global_step=global_step)\n",
    "    \n",
    "    \n",
    "    # Training predictions\n",
    "    train_prediction = tf.nn.softmax(output_logits)\n",
    "    \n",
    "    \n",
    "    # Validation predictions\n",
    "    valid_logits_1 = tf.matmul(tf_valid_dataset, weights_1) + biases_1\n",
    "    valid_relu_1 = tf.nn.relu(valid_logits_1)\n",
    "    \n",
    "    valid_logits_2 = tf.matmul(valid_relu_1, weights_2) + biases_2\n",
    "    valid_relu_2 = tf.nn.relu(valid_logits_2)\n",
    "    \n",
    "    valid_logits_3 = tf.matmul(valid_relu_2, weights_3) + biases_3\n",
    "    valid_relu_3 = tf.nn.relu(valid_logits_3)\n",
    "    \n",
    "    valid_output_logits = tf.matmul(valid_relu_3, output_weights) + output_biases\n",
    "    \n",
    "    valid_loss = tf.reduce_mean(tf.nn.weighted_cross_entropy_with_logits(targets = tf_valid_labels, logits = valid_output_logits, pos_weight = p_weight))\n",
    "    valid_loss = tf.reduce_mean(valid_loss + beta * regularizers)\n",
    "    \n",
    "    valid_prediction = tf.nn.softmax(valid_output_logits)\n",
    "    \n",
    "    \n",
    "    # Test predictions\n",
    "    test_logits_1 = tf.matmul(tf_test_dataset, weights_1) + biases_1\n",
    "    test_relu_1 = tf.nn.relu(test_logits_1)\n",
    "    \n",
    "    test_logits_2 = tf.matmul(test_relu_1, weights_2) + biases_2\n",
    "    test_relu_2 = tf.nn.relu(test_logits_2)\n",
    "    \n",
    "    test_logits_3 = tf.matmul(test_relu_2, weights_3) + biases_3\n",
    "    test_relu_3 = tf.nn.relu(test_logits_3)\n",
    "\n",
    "    test_output_logits = tf.matmul(test_relu_3, output_weights) + output_biases\n",
    "    \n",
    "    test_loss = tf.reduce_mean(tf.nn.weighted_cross_entropy_with_logits(targets = tf_test_labels, logits = test_output_logits, pos_weight = p_weight))\n",
    "    test_loss = tf.reduce_mean(test_loss + beta * regularizers)\n",
    "    \n",
    "    test_prediction = tf.nn.softmax(test_output_logits)"
   ]
  },
  {
   "cell_type": "code",
   "execution_count": 19,
   "metadata": {
    "collapsed": true
   },
   "outputs": [],
   "source": [
    "def F1_score(predictions, labels, pos, neg, pred_cutoff):\n",
    "\n",
    "    encoded_predictions = predictions > pred_cutoff\n",
    "    \n",
    "    tp = np.sum((encoded_predictions == pos)[:,0] & (labels == pos)[:,0])\n",
    "    fp = np.sum((encoded_predictions == pos)[:,0] & (labels == neg)[:,0])\n",
    "    fn = np.sum((encoded_predictions == neg)[:,0] & (labels == pos)[:,0])\n",
    "        \n",
    "    if tp + fp == 0: # troubleshooting tool: indicates extreme bias toward predicting negative\n",
    "        return -1\n",
    "    \n",
    "    prec = tp/(tp + fp)\n",
    "    rec = tp/(tp + fn)\n",
    "\n",
    "    F1 = 2*prec*rec/(prec + rec)\n",
    "    \n",
    "    return F1\n",
    "    \n",
    "#     return 100*F1"
   ]
  },
  {
   "cell_type": "markdown",
   "metadata": {},
   "source": [
    "We can now train the neural network and carry out prediction/classification"
   ]
  },
  {
   "cell_type": "code",
   "execution_count": 120,
   "metadata": {
    "scrolled": true
   },
   "outputs": [
    {
     "name": "stdout",
     "output_type": "stream",
     "text": [
      "Initialized\n",
      "0 20 40 60 80 100 120 140 160 180 200 220 240 260 280 300 320 340 360 380 400 420 440 460 480 500 520 540 560 580 600 620 640 660 680 700 720 740 760 780 800 820 840 860 880 900 920 940 960 980 1000 1020 1040 1060 1080 1100 1120 1140 1160 1180 1200 1220 1240 1260 1280 1300 1320 1340 1360 1380 1400 1420 1440 1460 1480 1500 1520 1540 1560 1580 1600 1620 1640 1660 1680 1700 1720 1740 1760 1780 1800 1820 1840 1860 1880 1900 1920 1940 1960 1980 \n",
      "\n",
      "Training F1: 1.0\n",
      "Validation F1: 1.0\n",
      "\n",
      "Test F1: 0.8\n"
     ]
    }
   ],
   "source": [
    "num_steps = 2000\n",
    "\n",
    "#lists to hold loss values for plotting\n",
    "l_train = []\n",
    "l_val = []\n",
    "l_test = []\n",
    "\n",
    "#lists to hold F1 values\n",
    "train_F1 = []\n",
    "valid_F1 = []\n",
    "test_F1 = []\n",
    "\n",
    "drop = 0.1 #fraction to discard in dropout\n",
    "sample_interval = 20\n",
    "\n",
    "with tf.Session(graph=graph) as session:\n",
    "    session.run(tf.global_variables_initializer())\n",
    "    print(\"Initialized\")\n",
    "    \n",
    "    for step in range(num_steps):\n",
    "        # Pick an offset within the training data, which has been randomized.\n",
    "        # Note: we could use better randomization across epochs.\n",
    "        offset = (step * batch_size) % (train_labels.shape[0] - batch_size)\n",
    "        \n",
    "        # Generate a minibatch.\n",
    "        batch_data = train_input[offset:(offset + batch_size), :]\n",
    "        batch_labels = train_labels[offset:(offset + batch_size), :]\n",
    "        \n",
    "        # Prepare a dictionary telling the session where to feed the minibatch.\n",
    "        # The key of the dictionary is the placeholder node of the graph to be fed,\n",
    "        # and the value is the numpy array to feed to it.\n",
    "        feed_dict = {tf_train_dataset : batch_data, tf_train_labels : batch_labels, keep_prob : 1 - drop}\n",
    "        \n",
    "        _, l, predictions = session.run([optimizer, loss, train_prediction], feed_dict=feed_dict)\n",
    "        \n",
    "        if (step % sample_interval == 0):\n",
    "#             print(\"Minibatch loss at step {}: {}\".format(step, l))\n",
    "#             print(\"Minibatch F1_score: {:.1f}\".format(F1_score(predictions, batch_labels, pos, neg, pred_cutoff)))\n",
    "#             print(\"Validation F1_score: {:.1f}\".format(F1_score(valid_prediction.eval(), val_labels, pos, neg, pred_cutoff)))\n",
    "#             print(\"\\n\")\n",
    "            \n",
    "            train_F1.append(F1_score(predictions, batch_labels, pos, neg, pred_cutoff))\n",
    "            valid_F1.append(F1_score(valid_prediction.eval(), val_labels, pos, neg, pred_cutoff))\n",
    "            test_F1.append(F1_score(test_prediction.eval(), test_labels[0:test_sample,:], pos, neg, pred_cutoff))\n",
    "            print(step, end = ' ')\n",
    "            \n",
    "            l_train.append(l)\n",
    "            l_val.append(valid_loss.eval())\n",
    "            l_test.append(test_loss.eval())\n",
    "            \n",
    "    print(\"\\n\\nTraining F1: {:.1f}\".format(F1_score(predictions, batch_labels, pos, neg, pred_cutoff)))\n",
    "    print(\"Validation F1: {:.1f}\".format(F1_score(valid_prediction.eval(), val_labels, pos, neg, pred_cutoff)))\n",
    "    print(\"\\nTest F1: {:.1f}\".format(F1_score(test_prediction.eval(), test_labels[0:test_sample,:], pos, neg, pred_cutoff)))"
   ]
  },
  {
   "cell_type": "markdown",
   "metadata": {},
   "source": [
    "\n",
    "\n",
    "Loss and F1 score values are sampled and saved every 'sample_interval' steps. In order to plot these values on a 'num_steps' (number of iterations) axis, the function '**get_scaled_indices**' does the conversion from 'sample_interval' to 'num_steps'."
   ]
  },
  {
   "cell_type": "code",
   "execution_count": 88,
   "metadata": {
    "collapsed": true
   },
   "outputs": [],
   "source": [
    "def get_scaled_indices(start, end, scale):\n",
    "    \n",
    "    ind = list(range(start,end))\n",
    "    for n in range(len(ind)):\n",
    "        ind[n] = scale * ind[n]\n",
    "        \n",
    "    return ind"
   ]
  },
  {
   "cell_type": "markdown",
   "metadata": {},
   "source": [
    "Plots for '**all_columns**':"
   ]
  },
  {
   "cell_type": "code",
   "execution_count": 72,
   "metadata": {},
   "outputs": [
    {
     "data": {
      "image/png": "[encoded data removed]",
      "text/plain": [
       "<matplotlib.figure.Figure at 0xb50c8257f0>"
      ]
     },
     "metadata": {},
     "output_type": "display_data"
    },
    {
     "data": {
      "image/png": "[encoded data removed]",
      "text/plain": [
       "<matplotlib.figure.Figure at 0xb50ca26be0>"
      ]
     },
     "metadata": {},
     "output_type": "display_data"
    }
   ],
   "source": [
    "scale = 50\n",
    "\n",
    "index_1 = 0\n",
    "index_2 = 8\n",
    "t = get_scaled_indices(index_1, index_2, scale)\n",
    "\n",
    "plt.plot(t, l_train[index_1:index_2], 'r', label='training loss')\n",
    "plt.plot(t, l_val[index_1:index_2], 'g', label='validation loss')\n",
    "plt.plot(t, l_test[index_1:index_2], 'b', label='test loss')\n",
    "plt.title('Loss', fontsize = 15)\n",
    "plt.xlabel('Num of iterations')\n",
    "plt.ylabel('Loss (cross-entropy)')\n",
    "plt.legend()\n",
    "plt.show()\n",
    "\n",
    "index_1 = 1\n",
    "index_2 = 50\n",
    "t = get_scaled_indices(index_1, index_2, scale)\n",
    "\n",
    "# plt.plot(t, train_F1[c:d], 'r', label='training F1_score')\n",
    "plt.plot(t, valid_F1[c:d], 'g', label='validation F1_score')\n",
    "plt.plot(t, test_F1[c:d], 'b', label='test F1_score')\n",
    "plt.title('F1 Score', fontsize = 15)\n",
    "plt.xlabel('Num of iterations')\n",
    "plt.ylabel('F1_score')\n",
    "plt.legend()\n",
    "plt.show()"
   ]
  },
  {
   "cell_type": "markdown",
   "metadata": {},
   "source": [
    "Plots for '**set_1**':\n",
    "* 'cmp_bd'\n",
    "* 'cmp_bm'\n",
    "* 'cmp_by'"
   ]
  },
  {
   "cell_type": "code",
   "execution_count": 119,
   "metadata": {},
   "outputs": [
    {
     "data": {
      "image/png": "[encoded data removed]",
      "text/plain": [
       "<matplotlib.figure.Figure at 0xb503fcde10>"
      ]
     },
     "metadata": {},
     "output_type": "display_data"
    },
    {
     "data": {
      "image/png": "[encoded data removed]",
      "text/plain": [
       "<matplotlib.figure.Figure at 0xb50a456898>"
      ]
     },
     "metadata": {},
     "output_type": "display_data"
    },
    {
     "data": {
      "image/png": "[encoded data removed]",
      "text/plain": [
       "<matplotlib.figure.Figure at 0xb50b0c6ba8>"
      ]
     },
     "metadata": {},
     "output_type": "display_data"
    }
   ],
   "source": [
    "scale = 20\n",
    "\n",
    "index_1 = 0\n",
    "index_2 = 20\n",
    "t = get_scaled_indices(index_1, index_2, scale)\n",
    "\n",
    "plt.plot(t, l_train[index_1:index_2], 'r', label='training loss')\n",
    "plt.plot(t, l_val[index_1:index_2], 'g', label='validation loss')\n",
    "plt.plot(t, l_test[index_1:index_2], 'b', label='test loss')\n",
    "plt.title('Set_1 Loss', fontsize = 15)\n",
    "plt.xlabel('Num of iterations')\n",
    "plt.ylabel('Loss (cross-entropy)')\n",
    "plt.legend()\n",
    "plt.show()\n",
    "\n",
    "index_1 = 0\n",
    "index_2 = 20\n",
    "t = get_scaled_indices(index_1, index_2, scale)\n",
    "\n",
    "plt.plot(t, train_F1[index_1:index_2], 'r', label='training F1_score')\n",
    "plt.plot(t, valid_F1[index_1:index_2], 'g', label='validation F1_score')\n",
    "plt.title('Set_1 F1 Score (training & validation data)')\n",
    "plt.xlabel('Num of iterations')\n",
    "plt.ylabel('F1_score')\n",
    "plt.legend()\n",
    "plt.show()\n",
    "\n",
    "plt.plot(t, test_F1[index_1:index_2], 'b', label='test F1_score')\n",
    "plt.title('Set_1 F1 Score (test data)')\n",
    "plt.xlabel('Num of iterations')\n",
    "plt.ylabel('F1_score')\n",
    "plt.legend()\n",
    "plt.show()"
   ]
  },
  {
   "cell_type": "markdown",
   "metadata": {},
   "source": [
    "Plots for '**set_2**':\n",
    "* 'cmp_fname_c1'\n",
    "* 'cmp_lname_c1'\n",
    "* 'cmp_sex'\n",
    "* 'cmp_plz'"
   ]
  },
  {
   "cell_type": "code",
   "execution_count": 127,
   "metadata": {},
   "outputs": [
    {
     "data": {
      "image/png": "[encoded data removed]",
      "text/plain": [
       "<matplotlib.figure.Figure at 0xb50cc8aba8>"
      ]
     },
     "metadata": {},
     "output_type": "display_data"
    },
    {
     "data": {
      "image/png": "[encoded data removed]",
      "text/plain": [
       "<matplotlib.figure.Figure at 0xb50ca75780>"
      ]
     },
     "metadata": {},
     "output_type": "display_data"
    }
   ],
   "source": [
    "scale = 20\n",
    "\n",
    "index_1 = 0\n",
    "index_2 = 20\n",
    "t = get_scaled_indices(index_1, index_2, scale)\n",
    "\n",
    "plt.plot(t, l_train[index_1:index_2], 'r', label='training loss')\n",
    "plt.plot(t, l_val[index_1:index_2], 'g', label='validation loss')\n",
    "plt.plot(t, l_test[index_1:index_2], 'b', label='test loss')\n",
    "plt.title('Set_2 Loss', fontsize = 15)\n",
    "plt.xlabel('Num of iterations')\n",
    "plt.ylabel('Loss (cross-entropy)')\n",
    "plt.legend()\n",
    "plt.show()\n",
    "\n",
    "index_1 = 1\n",
    "index_2 = 20\n",
    "t = get_scaled_indices(index_1, index_2, scale)\n",
    "\n",
    "plt.plot(t, train_F1[index_1:index_2], 'r', label='training F1_score')\n",
    "plt.plot(t, valid_F1[index_1:index_2], 'g', label='validation F1_score')\n",
    "plt.plot(t, test_F1[index_1:index_2], 'b', label='test F1_score')\n",
    "plt.title('Set_2 F1 Score', fontsize = 15)\n",
    "plt.xlabel('Num of iterations')\n",
    "plt.ylabel('F1_score')\n",
    "plt.legend()\n",
    "plt.show()"
   ]
  },
  {
   "cell_type": "code",
   "execution_count": null,
   "metadata": {
    "collapsed": true
   },
   "outputs": [],
   "source": []
  }
 ],
 "metadata": {
  "kernelspec": {
   "display_name": "Python 3",
   "language": "python",
   "name": "python3"
  },
  "language_info": {
   "codemirror_mode": {
    "name": "ipython",
    "version": 3
   },
   "file_extension": ".py",
   "mimetype": "text/x-python",
   "name": "python",
   "nbconvert_exporter": "python",
   "pygments_lexer": "ipython3",
   "version": "3.5.2"
  }
 },
 "nbformat": 4,
 "nbformat_minor": 2
}
